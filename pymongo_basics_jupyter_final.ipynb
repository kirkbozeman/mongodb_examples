{
 "cells": [
  {
   "cell_type": "markdown",
   "metadata": {},
   "source": [
    "## MongoDB Python Basics"
   ]
  },
  {
   "cell_type": "markdown",
   "metadata": {},
   "source": [
    "Connect to MongoDB"
   ]
  },
  {
   "cell_type": "code",
   "execution_count": 1,
   "metadata": {},
   "outputs": [],
   "source": [
    "import pymongo\n",
    "client = pymongo.MongoClient(\"mongodb://localhost:27017/\")"
   ]
  },
  {
   "cell_type": "markdown",
   "metadata": {},
   "source": [
    "Create a database (not technically created until data actually added)"
   ]
  },
  {
   "cell_type": "code",
   "execution_count": 11,
   "metadata": {},
   "outputs": [
    {
     "data": {
      "text/plain": [
       "['Dev', 'admin', 'config', 'local']"
      ]
     },
     "execution_count": 11,
     "metadata": {},
     "output_type": "execute_result"
    }
   ],
   "source": [
    "dbDev = client[\"Dev\"]\n",
    "client.list_database_names()  # get list of all databases"
   ]
  },
  {
   "cell_type": "markdown",
   "metadata": {},
   "source": [
    "Create a collection in the database (like a \"table\" but not really since we are NoSQL, more accurately a container for JSON data)"
   ]
  },
  {
   "cell_type": "code",
   "execution_count": 6,
   "metadata": {},
   "outputs": [
    {
     "data": {
      "text/plain": [
       "Collection(Database(MongoClient(host=['localhost:27017'], document_class=dict, tz_aware=False, connect=True), 'Dev'), 'collection')"
      ]
     },
     "execution_count": 6,
     "metadata": {},
     "output_type": "execute_result"
    }
   ],
   "source": [
    "col = dbDev[\"collection\"]\n",
    "col"
   ]
  },
  {
   "cell_type": "markdown",
   "metadata": {},
   "source": [
    "Insert single record"
   ]
  },
  {
   "cell_type": "code",
   "execution_count": 16,
   "metadata": {},
   "outputs": [],
   "source": [
    "mydict = { \"artist\": \"Bob Dylan\", \"album\": \"Time Out of Mind\", \"year\": 1997 }\n",
    "\n",
    "x = col.insert_one(mydict)"
   ]
  },
  {
   "cell_type": "code",
   "execution_count": 17,
   "metadata": {},
   "outputs": [
    {
     "data": {
      "text/plain": [
       "ObjectId('5cbfe413c0f9820c583986dd')"
      ]
     },
     "execution_count": 17,
     "metadata": {},
     "output_type": "execute_result"
    }
   ],
   "source": [
    "x.inserted_id  # unique ID assigned by MongoDB (can assign your own)\n",
    "# use following in each record to assigne your own ids: \"_id\": <id #>"
   ]
  },
  {
   "cell_type": "markdown",
   "metadata": {},
   "source": [
    "Insert multiple records"
   ]
  },
  {
   "cell_type": "code",
   "execution_count": 13,
   "metadata": {},
   "outputs": [],
   "source": [
    "albums = \\\n",
    "[{\"artist\": \"Bob Dylan\", \"album\": \"Highway 61 Revisited\", \"year\": 1965},\n",
    " {\"artist\": \"Bob Dylan and The Band\", \"album\": \"The Basement Tapes\", \"year\": 1975},\n",
    " {\"artist\": \"Bob Dylan\", \"album\": \"Infidels\", \"year\": 1983},\n",
    " {\"artist\": \"Bob Dylan\", \"album\": \"Blonde on Blonde\", \"year\": 1966},\n",
    " {\"artist\": \"Bob Dylan and The Grateful Dead\", \"album\": \"Dylan & The Dead\", \"year\": 1989}]\n"
   ]
  },
  {
   "cell_type": "code",
   "execution_count": 14,
   "metadata": {},
   "outputs": [
    {
     "data": {
      "text/plain": [
       "[ObjectId('5cbfe398c0f9820c583986d8'),\n",
       " ObjectId('5cbfe398c0f9820c583986d9'),\n",
       " ObjectId('5cbfe398c0f9820c583986da'),\n",
       " ObjectId('5cbfe398c0f9820c583986db'),\n",
       " ObjectId('5cbfe398c0f9820c583986dc')]"
      ]
     },
     "execution_count": 14,
     "metadata": {},
     "output_type": "execute_result"
    }
   ],
   "source": [
    "x = col.insert_many(albums)\n",
    "x.inserted_ids"
   ]
  },
  {
   "cell_type": "markdown",
   "metadata": {},
   "source": [
    "\"Querying\""
   ]
  },
  {
   "cell_type": "code",
   "execution_count": 18,
   "metadata": {},
   "outputs": [
    {
     "data": {
      "text/plain": [
       "{'_id': ObjectId('5cbfe1e1c0f9820c583986d7'),\n",
       " 'album': 'Time Out of Mind',\n",
       " 'artist': 'Bob Dylan',\n",
       " 'year': 1997}"
      ]
     },
     "execution_count": 18,
     "metadata": {},
     "output_type": "execute_result"
    }
   ],
   "source": [
    "col.find_one()  # get first record (\"document\") in collection"
   ]
  },
  {
   "cell_type": "code",
   "execution_count": 20,
   "metadata": {},
   "outputs": [
    {
     "data": {
      "text/plain": [
       "[{'_id': ObjectId('5cbfe1e1c0f9820c583986d7'),\n",
       "  'album': 'Time Out of Mind',\n",
       "  'artist': 'Bob Dylan',\n",
       "  'year': 1997},\n",
       " {'_id': ObjectId('5cbfe398c0f9820c583986d8'),\n",
       "  'album': 'Highway 61 Revisited',\n",
       "  'artist': 'Bob Dylan',\n",
       "  'year': 1965},\n",
       " {'_id': ObjectId('5cbfe398c0f9820c583986d9'),\n",
       "  'album': 'The Basement Tapes',\n",
       "  'artist': 'Bob Dylan and The Band',\n",
       "  'year': 1975},\n",
       " {'_id': ObjectId('5cbfe398c0f9820c583986da'),\n",
       "  'album': 'Infidels',\n",
       "  'artist': 'Bob Dylan',\n",
       "  'year': 1983},\n",
       " {'_id': ObjectId('5cbfe398c0f9820c583986db'),\n",
       "  'album': 'Blonde on Blonde',\n",
       "  'artist': 'Bob Dylan',\n",
       "  'year': 1966},\n",
       " {'_id': ObjectId('5cbfe398c0f9820c583986dc'),\n",
       "  'album': 'Dylan & The Dead',\n",
       "  'artist': 'Bob Dylan and The Grateful Dead',\n",
       "  'year': 1989},\n",
       " {'_id': ObjectId('5cbfe413c0f9820c583986dd'),\n",
       "  'album': 'Time Out of Mind',\n",
       "  'artist': 'Bob Dylan',\n",
       "  'year': 1997}]"
      ]
     },
     "execution_count": 20,
     "metadata": {},
     "output_type": "execute_result"
    }
   ],
   "source": [
    "[x for x in col.find()]  # get all documents in collection"
   ]
  },
  {
   "cell_type": "code",
   "execution_count": 30,
   "metadata": {},
   "outputs": [
    {
     "data": {
      "text/plain": [
       "[{'album': 'Time Out of Mind'},\n",
       " {'album': 'Highway 61 Revisited'},\n",
       " {'album': 'The Basement Tapes'},\n",
       " {'album': 'Infidels'},\n",
       " {'album': 'Blonde on Blonde'},\n",
       " {'album': 'Dylan & The Dead'},\n",
       " {'album': 'Time Out of Mind'}]"
      ]
     },
     "execution_count": 30,
     "metadata": {},
     "output_type": "execute_result"
    }
   ],
   "source": [
    "# return all album names, no id (1/0 is T/F for show)\n",
    "[x for x in col.find({},{\"_id\":0, \"album\":1})]  "
   ]
  },
  {
   "cell_type": "markdown",
   "metadata": {},
   "source": [
    "Delete a record"
   ]
  },
  {
   "cell_type": "code",
   "execution_count": 43,
   "metadata": {},
   "outputs": [
    {
     "data": {
      "text/plain": [
       "{'_id': ObjectId('5cbfe413c0f9820c583986dd'),\n",
       " 'album': 'Time Out of Mind',\n",
       " 'artist': 'Bob Dylan',\n",
       " 'year': 1997}"
      ]
     },
     "execution_count": 43,
     "metadata": {},
     "output_type": "execute_result"
    }
   ],
   "source": [
    "# need this to query by ObjectId, Binary JSON encoding library\n",
    "from bson.objectid  import ObjectId  \n",
    "col.find_one({\"_id\": ObjectId('5cbfe413c0f9820c583986dd')})"
   ]
  },
  {
   "cell_type": "code",
   "execution_count": 51,
   "metadata": {},
   "outputs": [
    {
     "data": {
      "text/plain": [
       "[{'album': 'Time Out of Mind'},\n",
       " {'album': 'Highway 61 Revisited'},\n",
       " {'album': 'The Basement Tapes'},\n",
       " {'album': 'Infidels'},\n",
       " {'album': 'Blonde on Blonde'},\n",
       " {'album': 'Dylan & The Dead'}]"
      ]
     },
     "execution_count": 51,
     "metadata": {},
     "output_type": "execute_result"
    }
   ],
   "source": [
    "x = col.delete_one({\"_id\": ObjectId('5cbfe413c0f9820c583986dd')})\n",
    "[x for x in col.find({},{\"_id\":0, \"album\":1})]  \n",
    "# note that dupe record no longer exists\n",
    "\n",
    "# can also delete:\n",
    "# col.delete_many({some query})\n",
    "# col.delete_many({})  # delete all docs in a collection\n",
    "# col.drop()  # drop the collection"
   ]
  },
  {
   "cell_type": "markdown",
   "metadata": {},
   "source": [
    "More querying"
   ]
  },
  {
   "cell_type": "code",
   "execution_count": 53,
   "metadata": {},
   "outputs": [
    {
     "data": {
      "text/plain": [
       "[{'_id': ObjectId('5cbfe398c0f9820c583986db'),\n",
       "  'album': 'Blonde on Blonde',\n",
       "  'artist': 'Bob Dylan',\n",
       "  'year': 1966}]"
      ]
     },
     "execution_count": 53,
     "metadata": {},
     "output_type": "execute_result"
    }
   ],
   "source": [
    "# query w/ a dict\n",
    "query = {\"album\": \"Blonde on Blonde\"}\n",
    "[doc for doc in col.find(query)]"
   ]
  },
  {
   "cell_type": "code",
   "execution_count": 68,
   "metadata": {},
   "outputs": [
    {
     "data": {
      "text/plain": [
       "[{'_id': ObjectId('5cbfe398c0f9820c583986dc'),\n",
       "  'album': 'Dylan & The Dead',\n",
       "  'artist': 'Bob Dylan and The Grateful Dead',\n",
       "  'year': 1989},\n",
       " {'_id': ObjectId('5cbfe398c0f9820c583986da'),\n",
       "  'album': 'Infidels',\n",
       "  'artist': 'Bob Dylan',\n",
       "  'year': 1983}]"
      ]
     },
     "execution_count": 68,
     "metadata": {},
     "output_type": "execute_result"
    }
   ],
   "source": [
    "# get Dylan in the 80s\n",
    "query = {\"$and\":[{\"year\":{\"$gte\":1980}}, {\"year\":{\"$lt\":1990}}]}\n",
    "[doc for doc in col.find(query).sort(\"year\", -1)]  #sort desc\n",
    "\n",
    "# note: \n",
    "# $and, $or\n",
    "# $gt >, $gte >=\n",
    "# $lt <, $lte <=\n"
   ]
  },
  {
   "cell_type": "code",
   "execution_count": 76,
   "metadata": {},
   "outputs": [
    {
     "data": {
      "text/plain": [
       "[{'_id': ObjectId('5cbfe1e1c0f9820c583986d7'),\n",
       "  'album': 'Time Out of Mind',\n",
       "  'artist': 'Bob Dylan',\n",
       "  'year': 1997},\n",
       " {'_id': ObjectId('5cbfe398c0f9820c583986d8'),\n",
       "  'album': 'Highway 61 Revisited',\n",
       "  'artist': 'Bob Dylan',\n",
       "  'year': 1965}]"
      ]
     },
     "execution_count": 76,
     "metadata": {},
     "output_type": "execute_result"
    }
   ],
   "source": [
    "# top 2 albums\n",
    "[x for x in col.find().limit(2)]"
   ]
  },
  {
   "cell_type": "code",
   "execution_count": 66,
   "metadata": {},
   "outputs": [
    {
     "data": {
      "text/plain": [
       "[{'_id': ObjectId('5cbfe398c0f9820c583986d9'),\n",
       "  'album': 'The Basement Tapes',\n",
       "  'artist': 'Bob Dylan and The Band',\n",
       "  'year': 1975}]"
      ]
     },
     "execution_count": 66,
     "metadata": {},
     "output_type": "execute_result"
    }
   ],
   "source": [
    "# albums made with The Band\n",
    "query = {\"artist\": {\"$regex\": \"[tT]he [B]and\"}}\n",
    "[doc for doc in col.find(query)]\n"
   ]
  },
  {
   "cell_type": "markdown",
   "metadata": {},
   "source": [
    "Update/Add field to record(s)"
   ]
  },
  {
   "cell_type": "code",
   "execution_count": 73,
   "metadata": {},
   "outputs": [
    {
     "data": {
      "text/plain": [
       "[{'_id': ObjectId('5cbfe398c0f9820c583986d9'),\n",
       "  'album': 'The Basement Tapes',\n",
       "  'artist': 'Bob Dylan and The Band',\n",
       "  'length (min)': 77,\n",
       "  'year': 1975}]"
      ]
     },
     "execution_count": 73,
     "metadata": {},
     "output_type": "execute_result"
    }
   ],
   "source": [
    "# update (add length to The Basement Tapes)\n",
    "query = {\"artist\": {\"$regex\": \"[tT]he [B]and\"}}\n",
    "update = {\"$set\":{\"length (min)\": 77 }}\n",
    "x = col.update_one(query, update)\n",
    "[doc for doc in col.find(query)]\n",
    "\n",
    "# use .update_many() to update many records"
   ]
  }
 ],
 "metadata": {
  "kernelspec": {
   "display_name": "Python 3",
   "language": "python",
   "name": "python3"
  },
  "language_info": {
   "codemirror_mode": {
    "name": "ipython",
    "version": 3
   },
   "file_extension": ".py",
   "mimetype": "text/x-python",
   "name": "python",
   "nbconvert_exporter": "python",
   "pygments_lexer": "ipython3",
   "version": "3.7.2"
  }
 },
 "nbformat": 4,
 "nbformat_minor": 2
}
